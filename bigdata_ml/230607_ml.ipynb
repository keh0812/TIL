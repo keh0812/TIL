{
 "cells": [
  {
   "cell_type": "code",
   "execution_count": 1,
   "id": "60b53412",
   "metadata": {},
   "outputs": [],
   "source": [
    "import numpy as np"
   ]
  },
  {
   "cell_type": "code",
   "execution_count": 2,
   "id": "9f8f1c3d",
   "metadata": {},
   "outputs": [
    {
     "data": {
      "text/plain": [
       "array([1, 4, 2, 5, 3])"
      ]
     },
     "execution_count": 2,
     "metadata": {},
     "output_type": "execute_result"
    }
   ],
   "source": [
    "np.array([1,4,2,5,3])"
   ]
  },
  {
   "cell_type": "code",
   "execution_count": 4,
   "id": "105e5c03",
   "metadata": {},
   "outputs": [
    {
     "name": "stderr",
     "output_type": "stream",
     "text": [
      "/var/folders/jp/8vy66mjd2cdbdvtn4d3f5zjr0000gn/T/ipykernel_7288/4039598636.py:2: DeprecationWarning: `np.float` is a deprecated alias for the builtin `float`. To silence this warning, use `float` by itself. Doing this will not modify any behavior and is safe. If you specifically wanted the numpy scalar type, use `np.float64` here.\n",
      "Deprecated in NumPy 1.20; for more details and guidance: https://numpy.org/devdocs/release/1.20.0-notes.html#deprecations\n",
      "  np.array([1,4,2,3], dtype=np.float)\n"
     ]
    },
    {
     "data": {
      "text/plain": [
       "array([1., 4., 2., 3.])"
      ]
     },
     "execution_count": 4,
     "metadata": {},
     "output_type": "execute_result"
    }
   ],
   "source": [
    "# 데이터 타입을 지정하여 구성\n",
    "np.array([1,4,2,3], dtype=np.float)"
   ]
  },
  {
   "cell_type": "code",
   "execution_count": 6,
   "id": "392cfd05",
   "metadata": {},
   "outputs": [
    {
     "data": {
      "text/plain": [
       "array([[1, 2, 3],\n",
       "       [4, 5, 6],\n",
       "       [7, 8, 9]])"
      ]
     },
     "execution_count": 6,
     "metadata": {},
     "output_type": "execute_result"
    }
   ],
   "source": [
    "# list comprebension[루프]\n",
    "np.array([range(i, i + 3) for i in [1,4,7]])"
   ]
  },
  {
   "cell_type": "code",
   "execution_count": 19,
   "id": "af76e059",
   "metadata": {},
   "outputs": [
    {
     "data": {
      "text/plain": [
       "array([  0,  25,  50,  75, 100])"
      ]
     },
     "execution_count": 19,
     "metadata": {},
     "output_type": "execute_result"
    }
   ],
   "source": [
    "# 초기화 가능한 여러가지 함수 제공\n",
    "\n",
    "# 1차원을 만드는 zeros\n",
    "np.zeros(10)\n",
    "\n",
    "# 1차원을 만들고 1로 채우는 ones\n",
    "np.ones((3,5))\n",
    "\n",
    "# 초기값을 임의로 설정해서 채우는 full\n",
    "# 2행 3열에 5로 채워라\n",
    "np.full((2,3),5)\n",
    "\n",
    "# 배열을 생성하는 np.arange\n",
    "# arange(start, end, step) end쪽이 -1로 빠짐\n",
    "\n",
    "# 0부터 9까지 2로 증가하는 배열 생성하라\n",
    "np.arange(0,10,2)\n",
    "\n",
    "# 균등하게 interval을 구성할 수 있는 linspace\n",
    "# 0부터 100까지 인터벌 5개 구성\n",
    "np.linspace(0, 100, 5, dtype=int)\n"
   ]
  },
  {
   "cell_type": "code",
   "execution_count": 21,
   "id": "3da7d9c0",
   "metadata": {},
   "outputs": [
    {
     "data": {
      "text/plain": [
       "array([[4, 4, 1],\n",
       "       [2, 5, 6],\n",
       "       [6, 8, 2]])"
      ]
     },
     "execution_count": 21,
     "metadata": {},
     "output_type": "execute_result"
    }
   ],
   "source": [
    "# 데이터 모의 구성 시 많이 사용하는 random 함수\n",
    "# 3행 3열로 랜덤데이터 생성하라, 기본으로 데이터는 0-1 사이의 수 생성\n",
    "np.random.random((3,3))\n",
    "\n",
    "# 범위를 제공하는 randint\n",
    "# 행 3열로 랜덤데이터 생성하라, 단 0-10까지의 수 10은 포함 X\n",
    "np.random.randint(0,10,(3,3))\n",
    "\n",
    "# 정규분포를 나타내는 normal\n",
    "# normal(평균, 표준편차, (행, 열))\n",
    "np.random.normal(0,1,(3,3))"
   ]
  }
 ],
 "metadata": {
  "kernelspec": {
   "display_name": "Python 3 (ipykernel)",
   "language": "python",
   "name": "python3"
  },
  "language_info": {
   "codemirror_mode": {
    "name": "ipython",
    "version": 3
   },
   "file_extension": ".py",
   "mimetype": "text/x-python",
   "name": "python",
   "nbconvert_exporter": "python",
   "pygments_lexer": "ipython3",
   "version": "3.10.9"
  }
 },
 "nbformat": 4,
 "nbformat_minor": 5
}
