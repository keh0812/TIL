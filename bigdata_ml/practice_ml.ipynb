{
 "cells": [
  {
   "cell_type": "code",
   "execution_count": 2,
   "id": "60b53412",
   "metadata": {},
   "outputs": [],
   "source": [
    "import numpy as np"
   ]
  },
  {
   "cell_type": "code",
   "execution_count": 2,
   "id": "9f8f1c3d",
   "metadata": {},
   "outputs": [
    {
     "data": {
      "text/plain": [
       "array([1, 4, 2, 5, 3])"
      ]
     },
     "execution_count": 2,
     "metadata": {},
     "output_type": "execute_result"
    }
   ],
   "source": [
    "np.array([1,4,2,5,3])"
   ]
  },
  {
   "cell_type": "code",
   "execution_count": 3,
   "id": "105e5c03",
   "metadata": {},
   "outputs": [
    {
     "name": "stderr",
     "output_type": "stream",
     "text": [
      "/var/folders/jp/8vy66mjd2cdbdvtn4d3f5zjr0000gn/T/ipykernel_16721/2733277739.py:2: DeprecationWarning: `np.float` is a deprecated alias for the builtin `float`. To silence this warning, use `float` by itself. Doing this will not modify any behavior and is safe. If you specifically wanted the numpy scalar type, use `np.float64` here.\n",
      "Deprecated in NumPy 1.20; for more details and guidance: https://numpy.org/devdocs/release/1.20.0-notes.html#deprecations\n",
      "  np.array([1,4,2,3], dtype=np.float)\n"
     ]
    },
    {
     "data": {
      "text/plain": [
       "array([1., 4., 2., 3.])"
      ]
     },
     "execution_count": 3,
     "metadata": {},
     "output_type": "execute_result"
    }
   ],
   "source": [
    "# 데이터 타입을 지정하여 구성\n",
    "np.array([1,4,2,3], dtype=np.float)"
   ]
  },
  {
   "cell_type": "code",
   "execution_count": 4,
   "id": "392cfd05",
   "metadata": {},
   "outputs": [
    {
     "data": {
      "text/plain": [
       "array([[1, 2, 3],\n",
       "       [4, 5, 6],\n",
       "       [7, 8, 9]])"
      ]
     },
     "execution_count": 4,
     "metadata": {},
     "output_type": "execute_result"
    }
   ],
   "source": [
    "# list comprebension[루프]\n",
    "np.array([range(i, i + 3) for i in [1,4,7]])"
   ]
  },
  {
   "cell_type": "code",
   "execution_count": 5,
   "id": "af76e059",
   "metadata": {},
   "outputs": [
    {
     "data": {
      "text/plain": [
       "array([  0,  25,  50,  75, 100])"
      ]
     },
     "execution_count": 5,
     "metadata": {},
     "output_type": "execute_result"
    }
   ],
   "source": [
    "# 초기화 가능한 여러가지 함수 제공\n",
    "\n",
    "# 1차원을 만드는 zeros\n",
    "np.zeros(10)\n",
    "\n",
    "# 1차원을 만들고 1로 채우는 ones\n",
    "# 3행 5열에 1로 채워라\n",
    "np.ones((3,5))\n",
    "\n",
    "# 초기값을 임의로 설정해서 채우는 full\n",
    "# 2행 3열에 5로 채워라\n",
    "np.full((2,3),5)\n",
    "\n",
    "# 배열을 생성하는 np.arange\n",
    "# arange(start, end, step) end쪽이 -1로 빠짐\n",
    "\n",
    "# 0부터 9까지 2로 증가하는 배열 생성하라\n",
    "np.arange(0,10,2)\n",
    "\n",
    "# 균등하게 interval을 구성할 수 있는 linspace\n",
    "# 0부터 100까지 인터벌 5개 구성\n",
    "np.linspace(0, 100, 5, dtype=int)\n"
   ]
  },
  {
   "cell_type": "code",
   "execution_count": 6,
   "id": "3da7d9c0",
   "metadata": {},
   "outputs": [
    {
     "data": {
      "text/plain": [
       "array([[-0.30542476,  0.2531995 , -0.52148734],\n",
       "       [-0.92574061,  0.22983979, -0.39608674],\n",
       "       [ 0.53905333,  1.1038252 , -1.63754446]])"
      ]
     },
     "execution_count": 6,
     "metadata": {},
     "output_type": "execute_result"
    }
   ],
   "source": [
    "# 데이터 모의 구성 시 많이 사용하는 random 함수\n",
    "# 3행 3열로 랜덤데이터 생성하라, 기본으로 데이터는 0-1 사이의 수 생성\n",
    "np.random.random((3,3))\n",
    "\n",
    "# 범위를 제공하는 randint\n",
    "# 행 3열로 랜덤데이터 생성하라, 단 0-10까지의 수 10은 포함 X\n",
    "np.random.randint(0,10,(3,3))\n",
    "\n",
    "# 정규분포를 나타내는 normal\n",
    "# normal(평균, 표준편차, (행, 열))\n",
    "np.random.normal(0,1,(3,3))"
   ]
  },
  {
   "cell_type": "code",
   "execution_count": 16,
   "id": "2fdfe0a7",
   "metadata": {},
   "outputs": [
    {
     "name": "stdout",
     "output_type": "stream",
     "text": [
      "arr1:\n",
      "[5 0 3 3 7 9]\n",
      "ndim : 1, shape : (6,), size: 6, dtype: int64\n",
      "\n",
      "arr2:\n",
      "[[3 5 2]\n",
      " [4 7 6]]\n",
      "ndim : 2, shape : (2, 3), size: 6, dtype: int64\n",
      "\n"
     ]
    }
   ],
   "source": [
    "#230712\n",
    "#seed 함수에 seed값을 주면 재현성 문제 해결\n",
    "np.random.seed(0)\n",
    "\n",
    "#integer를 random하게 만드는 randint\n",
    "arr1 = np.random.randint(10, size=6) #0부터 10까지의 수 중 ...\n",
    "arr2 = np.random.randint(10, size=(2,3))\n",
    "\n",
    "#ndim(차원정보), shape(행/열, 원소의 구조 정보), size(원소의 개수), dtype(data type)를 나타냄\n",
    "print(\"arr1:\\n%s\" % arr1)\n",
    "print(\"ndim : %d, shape : %s, size: %d, dtype: %s\\n\" %\n",
    "     (arr1.ndim, arr1.shape, arr1.size, arr1.dtype))\n",
    "print(\"arr2:\\n%s\" % arr2)\n",
    "print(\"ndim : %d, shape : %s, size: %d, dtype: %s\\n\" %\n",
    "     (arr2.ndim, arr2.shape, arr2.size, arr2.dtype))\n",
    "\n",
    "# arr1:\n",
    "# [5 0 3 3 7 9]\n",
    "# ndim : 1, shape : (6,), size: 6, dtype: int64\n",
    "\n",
    "# arr2:\n",
    "# [[3 5 2]\n",
    "#  [4 7 6]]\n",
    "# ndim : 2, shape : (2, 3), size: 6, dtype: int64"
   ]
  },
  {
   "cell_type": "code",
   "execution_count": 24,
   "id": "fb269418",
   "metadata": {},
   "outputs": [
    {
     "data": {
      "text/plain": [
       "array([0, 1, 2, 3, 4, 5, 6, 7, 8, 9])"
      ]
     },
     "execution_count": 24,
     "metadata": {},
     "output_type": "execute_result"
    }
   ],
   "source": [
    "#인덱싱 : 단일 원소에 접근하는 기법\n",
    "arr1\n",
    "#array([5, 0, 3, 3, 7, 9])\n",
    "arr1[0], arr1[5], arr1[-6], arr1[-1]\n",
    "# (5, 9, 5, 9)\n",
    "\n",
    "arr2\n",
    "# 2행 3열 2차원 shape의 arr2\n",
    "# array([[3, 5, 2],\n",
    "#        [4, 7, 6]])\n",
    "# 단일 인덱싱을 사용해 첫 번째 원소에 접근\n",
    "arr2[-1, -3], arr2[-1,-1]\n",
    "# (4, 6)\n",
    "\n",
    "# 인덱스를 이용해 새로운 값 지정 가능\n",
    "arr2[0,0] = 9\n",
    "arr2\n",
    "# array([[9, 5, 2],\n",
    "#        [4, 7, 6]])"
   ]
  },
  {
   "cell_type": "code",
   "execution_count": 25,
   "id": "339d8c1d",
   "metadata": {},
   "outputs": [
    {
     "data": {
      "text/plain": [
       "array([0, 1, 2, 3, 4])"
      ]
     },
     "execution_count": 25,
     "metadata": {},
     "output_type": "execute_result"
    }
   ],
   "source": [
    "#슬라이싱\n",
    "arr3 = np.arange(10)\n",
    "arr3\n",
    "\n",
    "#[start:end:step]\n",
    "#end필수 start,step 제외 가능\n",
    "arr3[0:5:1]"
   ]
  },
  {
   "cell_type": "code",
   "execution_count": 31,
   "id": "aff57012",
   "metadata": {},
   "outputs": [
    {
     "data": {
      "text/plain": [
       "array([[ 0,  1,  2,  3],\n",
       "       [ 4,  5,  6,  7],\n",
       "       [ 8,  9, 10, 11]])"
      ]
     },
     "execution_count": 31,
     "metadata": {},
     "output_type": "execute_result"
    }
   ],
   "source": [
    "#reshape 명령어 행/열 변환\n",
    "arr2 = np.arange(12).reshape(-1,4)\n",
    "#비어있는 슬라이싱 연산자 사용 시 전체집합을 부분집합으로 반환\n",
    "arr2[:,:]"
   ]
  },
  {
   "cell_type": "code",
   "execution_count": 10,
   "id": "d8518eaa",
   "metadata": {},
   "outputs": [
    {
     "data": {
      "text/plain": [
       "array([[1, 2, 3, 1, 2, 3],\n",
       "       [4, 5, 6, 4, 5, 6]])"
      ]
     },
     "execution_count": 10,
     "metadata": {},
     "output_type": "execute_result"
    }
   ],
   "source": [
    "#230719\n",
    "list1 = [1,2,3]\n",
    "list2 = [4,5,6]\n",
    "\n",
    "#list를 연결하는 concatenate\n",
    "np.concatenate([list1, list2])\n",
    "\n",
    "# axis라는 파라미터를 이용해서 방향을 지정한다.\n",
    "\n",
    "arr1 = np.concatenate([list1, list2], axis=0)\n",
    "arr1\n",
    "\n",
    "arr2 = arr1.reshape(-1, 3)\n",
    "arr2\n",
    "\n",
    "# array([[1, 2, 3],\n",
    "#        [4, 5, 6]])\n",
    "\n",
    "np.concatenate([arr2, arr2], axis=0)\n",
    "\n",
    "# array([[1, 2, 3],\n",
    "#        [4, 5, 6],\n",
    "#        [1, 2, 3],\n",
    "#        [4, 5, 6]])\n",
    "\n",
    "np.concatenate([arr2, arr2], axis=1)\n",
    "\n",
    "# array([[1, 2, 3, 1, 2, 3],\n",
    "#        [4, 5, 6, 4, 5, 6]])\n",
    "\n",
    "# axis를 사용한 경우 축이 2개일 때 0과 1 두 개의 축이 생겨서 파라미터로 지정 가능하다.\n",
    "\n",
    "# axis1과 같은 함수는 vstack(vertical stack)이고\n",
    "# axis0과 같은 함수는 hstack(horizontal stack)이다.\n",
    "\n",
    "np.vstack([arr2, arr2])\n",
    "# array([[1, 2, 3],\n",
    "#        [4, 5, 6],\n",
    "#        [1, 2, 3],\n",
    "#        [4, 5, 6]])\n",
    "np.hstack([arr2, arr2])\n",
    "# array([[1, 2, 3, 1, 2, 3],\n",
    "#        [4, 5, 6, 4, 5, 6]])"
   ]
  },
  {
   "cell_type": "code",
   "execution_count": null,
   "id": "2c3bdd31",
   "metadata": {},
   "outputs": [],
   "source": [
    "# 행열 구조를 동일하게 맞춰주는 브로드캐스팅\n"
   ]
  }
 ],
 "metadata": {
  "kernelspec": {
   "display_name": "Python 3 (ipykernel)",
   "language": "python",
   "name": "python3"
  },
  "language_info": {
   "codemirror_mode": {
    "name": "ipython",
    "version": 3
   },
   "file_extension": ".py",
   "mimetype": "text/x-python",
   "name": "python",
   "nbconvert_exporter": "python",
   "pygments_lexer": "ipython3",
   "version": "3.10.9"
  }
 },
 "nbformat": 4,
 "nbformat_minor": 5
}
