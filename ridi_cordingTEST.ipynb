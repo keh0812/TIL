{
 "cells": [
  {
   "cell_type": "code",
   "execution_count": 15,
   "id": "2782e3ea",
   "metadata": {},
   "outputs": [
    {
     "name": "stdout",
     "output_type": "stream",
     "text": [
      "num 1 =>  1\n",
      "char 1 =>  1\n",
      "num 2 =>  1\n",
      "char 2 =>  1\n"
     ]
    },
    {
     "data": {
      "text/plain": [
       "'11'"
      ]
     },
     "execution_count": 15,
     "metadata": {},
     "output_type": "execute_result"
    }
   ],
   "source": [
    "def solution(n):\n",
    "    num = \"1\"\n",
    "\n",
    "    for _ in range(n-1):\n",
    "        char = num[0]\n",
    "        print(\"num 1 => \", num)\n",
    "        print(\"char 1 => \", char)\n",
    "        count = 0\n",
    "        new_num = \"\"\n",
    "        for s in num:\n",
    "            print(\"num 2 => \", num)\n",
    "            print(\"char 2 => \", char)\n",
    "            if s == char :\n",
    "                count += 1\n",
    "            else:\n",
    "                new_num += char + str(count)\n",
    "                char = s\n",
    "                count = 1\n",
    "        new_num += char + str(count)\n",
    "        num = new_num\n",
    "    return num\n",
    "\n",
    "solution(2)"
   ]
  },
  {
   "cell_type": "code",
   "execution_count": 24,
   "id": "f578d205",
   "metadata": {},
   "outputs": [
    {
     "name": "stdout",
     "output_type": "stream",
     "text": [
      "five_box =>  0\n",
      "!!!!!!!!\n",
      "five_box 111 =>  0\n",
      "five_box 222 =>  -1\n"
     ]
    },
    {
     "data": {
      "text/plain": [
       "-1"
      ]
     },
     "execution_count": 24,
     "metadata": {},
     "output_type": "execute_result"
    }
   ],
   "source": [
    "def solution(n):\n",
    "    five_box = n // 5\n",
    "    print(\"five_box => \", five_box)\n",
    "    \n",
    "    while five_box >= 0 :\n",
    "        print(\"!!!!!!!!\")\n",
    "        left_clothes = n-(five_box *5)\n",
    "        if left_clothes % 3 == 0:\n",
    "            return five_box + (left_clothes // 3)\n",
    "        print(\"five_box 111 => \", five_box)\n",
    "        five_box -= 1\n",
    "        print(\"five_box 222 => \", five_box)\n",
    "            \n",
    "    return -1\n",
    "\n",
    "solution(2)"
   ]
  }
 ],
 "metadata": {
  "kernelspec": {
   "display_name": "Python 3 (ipykernel)",
   "language": "python",
   "name": "python3"
  },
  "language_info": {
   "codemirror_mode": {
    "name": "ipython",
    "version": 3
   },
   "file_extension": ".py",
   "mimetype": "text/x-python",
   "name": "python",
   "nbconvert_exporter": "python",
   "pygments_lexer": "ipython3",
   "version": "3.10.9"
  }
 },
 "nbformat": 4,
 "nbformat_minor": 5
}
